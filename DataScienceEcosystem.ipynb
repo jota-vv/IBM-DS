{
 "cells": [
  {
   "cell_type": "markdown",
   "id": "27d6e4c0-a174-441f-a779-318718b0f2dd",
   "metadata": {},
   "source": [
    "# Data Science Tools and Ecosystem"
   ]
  },
  {
   "cell_type": "markdown",
   "id": "da58509f-98e4-40f9-96af-aa5ea5b00838",
   "metadata": {},
   "source": [
    "In this notebook, Data Science Tools and Ecosystem are summarized."
   ]
  },
  {
   "cell_type": "markdown",
   "id": "48687f4e-c4d0-4c5b-8f58-f238beb9d55f",
   "metadata": {},
   "source": [
    "**Objectives:**\n",
    "* List popular tools for Data Science\n",
    "* List popular languages for Data Science\n",
    "* Show examples of evaluating arithmetic expressions in Python"
   ]
  },
  {
   "cell_type": "markdown",
   "id": "db3c8a1c-edba-45d0-899e-b4dcee8aab71",
   "metadata": {},
   "source": [
    "Some of the popular languages that Data Scientists use are:\n",
    "\n",
    "1. NumPy\n",
    "2. Matplotlib\n",
    "3. Pandas"
   ]
  },
  {
   "cell_type": "markdown",
   "id": "1a1f7cad-72a0-4a61-a259-df7f300ecd98",
   "metadata": {},
   "source": [
    "|Data Science Tools|\n",
    "|------------------|\n",
    "|Git|\n",
    "|MySQL|\n",
    "|Apache SparkSQL|"
   ]
  },
  {
   "cell_type": "markdown",
   "id": "b0c847c2-7a7b-4ec9-9af5-0a6871e992ca",
   "metadata": {},
   "source": [
    "### Below are a few examples of evaluating arithmetic expressions in Python"
   ]
  },
  {
   "cell_type": "code",
   "execution_count": 2,
   "id": "f53de5d2-f6cb-466c-9738-ad1c5262f3de",
   "metadata": {},
   "outputs": [
    {
     "data": {
      "text/plain": [
       "17"
      ]
     },
     "execution_count": 2,
     "metadata": {},
     "output_type": "execute_result"
    }
   ],
   "source": [
    "# This a simple arithmetic expression to mutiply then add integers\n",
    "(3*4)+5"
   ]
  },
  {
   "cell_type": "code",
   "execution_count": 3,
   "id": "2d9d2fb7-0128-4ca8-be59-2dc138b19505",
   "metadata": {},
   "outputs": [
    {
     "data": {
      "text/plain": [
       "3.3333333333333335"
      ]
     },
     "execution_count": 3,
     "metadata": {},
     "output_type": "execute_result"
    }
   ],
   "source": [
    "# This will convert 200 minutes to hours by diving by 60\n",
    "200/60"
   ]
  },
  {
   "cell_type": "markdown",
   "id": "430d7e64-663b-46cd-8527-9e9bafa692ea",
   "metadata": {},
   "source": [
    "## Author\n",
    "João Paulo"
   ]
  },
  {
   "cell_type": "code",
   "execution_count": null,
   "id": "8e2bd62e-df76-4f06-b0a4-5825d980155d",
   "metadata": {},
   "outputs": [],
   "source": []
  }
 ],
 "metadata": {
  "kernelspec": {
   "display_name": "Python 3 (ipykernel)",
   "language": "python",
   "name": "python3"
  },
  "language_info": {
   "codemirror_mode": {
    "name": "ipython",
    "version": 3
   },
   "file_extension": ".py",
   "mimetype": "text/x-python",
   "name": "python",
   "nbconvert_exporter": "python",
   "pygments_lexer": "ipython3",
   "version": "3.11.11"
  }
 },
 "nbformat": 4,
 "nbformat_minor": 5
}
